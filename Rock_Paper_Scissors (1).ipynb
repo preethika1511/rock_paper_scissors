{
 "cells": [
  {
   "cell_type": "code",
   "execution_count": 2,
   "id": "06bb6fbe-f4ef-41ee-ae2b-acea8f4fe8d1",
   "metadata": {},
   "outputs": [
    {
     "name": "stdin",
     "output_type": "stream",
     "text": [
      "Rock,Paper or Scissors? (r,p,s): r\n"
     ]
    },
    {
     "name": "stdout",
     "output_type": "stream",
     "text": [
      "You chose 🪨\n",
      "Computer chose 📄\n",
      "You lose!\n"
     ]
    },
    {
     "name": "stdin",
     "output_type": "stream",
     "text": [
      "Continue? (Y/N) y\n",
      "Rock,Paper or Scissors? (r,p,s): p\n"
     ]
    },
    {
     "name": "stdout",
     "output_type": "stream",
     "text": [
      "You chose 📄\n",
      "Computer chose ✂️\n",
      "You lose!\n"
     ]
    },
    {
     "name": "stdin",
     "output_type": "stream",
     "text": [
      "Continue? (Y/N) y\n",
      "Rock,Paper or Scissors? (r,p,s): u\n"
     ]
    },
    {
     "name": "stdout",
     "output_type": "stream",
     "text": [
      "Invalid choice.Please choose r,p,s,\n"
     ]
    },
    {
     "name": "stdin",
     "output_type": "stream",
     "text": [
      "Rock,Paper or Scissors? (r,p,s): s\n"
     ]
    },
    {
     "name": "stdout",
     "output_type": "stream",
     "text": [
      "You chose ✂️\n",
      "Computer chose 🪨\n",
      "You lose!\n"
     ]
    },
    {
     "name": "stdin",
     "output_type": "stream",
     "text": [
      "Continue? (Y/N) n\n"
     ]
    },
    {
     "name": "stdout",
     "output_type": "stream",
     "text": [
      "Game over!\n"
     ]
    }
   ],
   "source": [
    "import random\n",
    "\n",
    "options={'r':\"🪨\",'p':\"📄\",'s':\"✂️\"}\n",
    "while True:\n",
    "    choose=input('Rock,Paper or Scissors? (r,p,s):').lower()\n",
    "    if choose in options:\n",
    "        comp=random.choice(list(options.keys()))\n",
    "        print(f'You chose {options[choose]}')\n",
    "        print(f'Computer chose {options[comp]}')\n",
    "        if (choose=='r' and comp=='s') or (choose=='s'and comp=='p') or (choose=='p'and comp=='r'):\n",
    "            print('You win!')\n",
    "        elif (choose=='s' and comp=='r') or (choose=='p'and comp=='s') or (choose=='r'and comp=='p'):\n",
    "            print('You lose!')\n",
    "        else:\n",
    "            print(\"It's a draw!\")\n",
    "    else:\n",
    "        print(\"Invalid choice.Please choose r,p,s,\" )\n",
    "        continue\n",
    "     \n",
    "    select=input('Continue? (Y/N)').lower()\n",
    "    if select != 'y':\n",
    "        print(\"Game over!\")\n",
    "        break"
   ]
  },
  {
   "cell_type": "code",
   "execution_count": null,
   "id": "83acce89-0558-4cfc-81d8-2fa1376341a5",
   "metadata": {},
   "outputs": [],
   "source": []
  }
 ],
 "metadata": {
  "kernelspec": {
   "display_name": "Python 3 (ipykernel)",
   "language": "python",
   "name": "python3"
  },
  "language_info": {
   "codemirror_mode": {
    "name": "ipython",
    "version": 3
   },
   "file_extension": ".py",
   "mimetype": "text/x-python",
   "name": "python",
   "nbconvert_exporter": "python",
   "pygments_lexer": "ipython3",
   "version": "3.12.7"
  }
 },
 "nbformat": 4,
 "nbformat_minor": 5
}
